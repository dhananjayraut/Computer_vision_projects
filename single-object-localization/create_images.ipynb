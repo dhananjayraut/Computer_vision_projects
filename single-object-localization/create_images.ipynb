{
 "cells": [
  {
   "cell_type": "code",
   "execution_count": 1,
   "metadata": {},
   "outputs": [],
   "source": [
    "import numpy as np\n",
    "from PIL import Image\n",
    "import pandas as pd\n",
    "#640 * 480"
   ]
  },
  {
   "cell_type": "code",
   "execution_count": 39,
   "metadata": {},
   "outputs": [
    {
     "data": {
      "text/html": [
       "<div>\n",
       "<style scoped>\n",
       "    .dataframe tbody tr th:only-of-type {\n",
       "        vertical-align: middle;\n",
       "    }\n",
       "\n",
       "    .dataframe tbody tr th {\n",
       "        vertical-align: top;\n",
       "    }\n",
       "\n",
       "    .dataframe thead th {\n",
       "        text-align: right;\n",
       "    }\n",
       "</style>\n",
       "<table border=\"1\" class=\"dataframe\">\n",
       "  <thead>\n",
       "    <tr style=\"text-align: right;\">\n",
       "      <th></th>\n",
       "      <th>0</th>\n",
       "      <th>1</th>\n",
       "      <th>2</th>\n",
       "      <th>3</th>\n",
       "      <th>4</th>\n",
       "    </tr>\n",
       "  </thead>\n",
       "  <tbody>\n",
       "    <tr>\n",
       "      <th>0</th>\n",
       "      <td>NaN</td>\n",
       "      <td>NaN</td>\n",
       "      <td>NaN</td>\n",
       "      <td>NaN</td>\n",
       "      <td>NaN</td>\n",
       "    </tr>\n",
       "    <tr>\n",
       "      <th>1</th>\n",
       "      <td>147437508529811470139727518-Roadster-Navy-Hood...</td>\n",
       "      <td>-1.0</td>\n",
       "      <td>-1.0</td>\n",
       "      <td>640.0</td>\n",
       "      <td>480.0</td>\n",
       "    </tr>\n",
       "    <tr>\n",
       "      <th>2</th>\n",
       "      <td>147771707740120161028_153434.png</td>\n",
       "      <td>17.5</td>\n",
       "      <td>37.0</td>\n",
       "      <td>411.0</td>\n",
       "      <td>386.0</td>\n",
       "    </tr>\n",
       "    <tr>\n",
       "      <th>3</th>\n",
       "      <td>1480513991329IMG_0475.png</td>\n",
       "      <td>52.5</td>\n",
       "      <td>25.5</td>\n",
       "      <td>467.0</td>\n",
       "      <td>219.0</td>\n",
       "    </tr>\n",
       "    <tr>\n",
       "      <th>4</th>\n",
       "      <td>JPEG_20160820_112743_1000875312594.png</td>\n",
       "      <td>-9.0</td>\n",
       "      <td>-13.0</td>\n",
       "      <td>140.0</td>\n",
       "      <td>440.0</td>\n",
       "    </tr>\n",
       "  </tbody>\n",
       "</table>\n",
       "</div>"
      ],
      "text/plain": [
       "                                                   0     1     2      3      4\n",
       "0                                                NaN   NaN   NaN    NaN    NaN\n",
       "1  147437508529811470139727518-Roadster-Navy-Hood...  -1.0  -1.0  640.0  480.0\n",
       "2                   147771707740120161028_153434.png  17.5  37.0  411.0  386.0\n",
       "3                          1480513991329IMG_0475.png  52.5  25.5  467.0  219.0\n",
       "4             JPEG_20160820_112743_1000875312594.png  -9.0 -13.0  140.0  440.0"
      ]
     },
     "execution_count": 39,
     "metadata": {},
     "output_type": "execute_result"
    }
   ],
   "source": [
    "frame = pd.read_csv('test.csv',header=None)"
   ]
  },
  {
   "cell_type": "code",
   "execution_count": 35,
   "metadata": {},
   "outputs": [],
   "source": [
    "frame.columns =[0,1,2,3,4]\n",
    "frame.head()\n",
    "frame.to_csv('test1.csv',index=None)"
   ]
  },
  {
   "cell_type": "code",
   "execution_count": 15,
   "metadata": {},
   "outputs": [
    {
     "data": {
      "text/plain": [
       "'72.png'"
      ]
     },
     "execution_count": 15,
     "metadata": {},
     "output_type": "execute_result"
    }
   ],
   "source": [
    "frame[0][10]"
   ]
  },
  {
   "cell_type": "code",
   "execution_count": 15,
   "metadata": {},
   "outputs": [],
   "source": [
    "file = open('new.txt','w')\n",
    "j = 200000\n",
    "for i in range(1000):\n",
    "    s = frame[0][i]\n",
    "    im = Image.open('simages/'+s)\n",
    "    out = im.transpose(Image.FLIP_LEFT_RIGHT)\n",
    "    x1 = -1 * frame[1][i] \n",
    "    x2 = frame[2][i]\n",
    "    y1 = frame[3][i]\n",
    "    y2 = frame[4][i]\n",
    "    file.write(str(j)+\".png,\" +str(x1)+\",\"+str(x2)+\",\"+str(y1)+\",\"+str(y2)+\"\\n\" )\n",
    "    out.save(\"simages/\"+str(j)+\".png\" ,\"png\")\n",
    "    j = j + 1\n",
    "    out = im.transpose(Image.FLIP_TOP_BOTTOM)\n",
    "    x1 = frame[1][i] \n",
    "    x2 = -1 * frame[2][i]\n",
    "    y1 = frame[3][i]\n",
    "    y2 = frame[4][i]\n",
    "    file.write(str(j)+\".png,\" +str(x1)+\",\"+str(x2)+\",\"+str(y1)+\",\"+str(y2)+\"\\n\" )\n",
    "    out.save(\"simages/\"+str(j)+\".png\" ,\"png\")\n",
    "    j = j + 1\n",
    "    out = im.transpose(Image.FLIP_LEFT_RIGHT).transpose(Image.FLIP_TOP_BOTTOM)\n",
    "    x1 = -1 * frame[1][i] \n",
    "    x2 = -1 * frame[2][i]\n",
    "    y1 = frame[3][i]\n",
    "    y2 = frame[4][i]\n",
    "    file.write(str(j)+\".png,\" +str(x1)+\",\"+str(x2)+\",\"+str(y1)+\",\"+str(y2)+\"\\n\" )\n",
    "    out.save(\"simages/\"+str(j)+\".png\" ,\"png\")\n",
    "    j = j + 1"
   ]
  },
  {
   "cell_type": "code",
   "execution_count": 17,
   "metadata": {},
   "outputs": [],
   "source": [
    "file.close()"
   ]
  },
  {
   "cell_type": "code",
   "execution_count": null,
   "metadata": {},
   "outputs": [],
   "source": [
    "#here I copy pasted content of txt file at the bottom of train.csv"
   ]
  }
 ],
 "metadata": {
  "kernelspec": {
   "display_name": "Python 3",
   "language": "python",
   "name": "python3"
  },
  "language_info": {
   "codemirror_mode": {
    "name": "ipython",
    "version": 3
   },
   "file_extension": ".py",
   "mimetype": "text/x-python",
   "name": "python",
   "nbconvert_exporter": "python",
   "pygments_lexer": "ipython3",
   "version": "3.7.4"
  }
 },
 "nbformat": 4,
 "nbformat_minor": 4
}
