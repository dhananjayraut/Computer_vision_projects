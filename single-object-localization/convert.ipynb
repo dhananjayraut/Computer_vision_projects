{
 "cells": [
  {
   "cell_type": "code",
   "execution_count": 7,
   "metadata": {},
   "outputs": [],
   "source": [
    "import pandas as pd\n",
    "import os"
   ]
  },
  {
   "cell_type": "code",
   "execution_count": 3,
   "metadata": {},
   "outputs": [
    {
     "name": "stdout",
     "output_type": "stream",
     "text": [
      "(24000, 5)\n"
     ]
    }
   ],
   "source": [
    "frame = pd.read_csv('givenfile/training_set.csv')\n",
    "print(frame.shape)"
   ]
  },
  {
   "cell_type": "code",
   "execution_count": 4,
   "metadata": {},
   "outputs": [
    {
     "data": {
      "text/html": [
       "<div>\n",
       "<style scoped>\n",
       "    .dataframe tbody tr th:only-of-type {\n",
       "        vertical-align: middle;\n",
       "    }\n",
       "\n",
       "    .dataframe tbody tr th {\n",
       "        vertical-align: top;\n",
       "    }\n",
       "\n",
       "    .dataframe thead th {\n",
       "        text-align: right;\n",
       "    }\n",
       "</style>\n",
       "<table border=\"1\" class=\"dataframe\">\n",
       "  <thead>\n",
       "    <tr style=\"text-align: right;\">\n",
       "      <th></th>\n",
       "      <th>image_name</th>\n",
       "      <th>x1</th>\n",
       "      <th>x2</th>\n",
       "      <th>y1</th>\n",
       "      <th>y2</th>\n",
       "    </tr>\n",
       "  </thead>\n",
       "  <tbody>\n",
       "    <tr>\n",
       "      <th>0</th>\n",
       "      <td>JPEG_20160517_140621_1000651031832.png</td>\n",
       "      <td>78</td>\n",
       "      <td>446</td>\n",
       "      <td>83</td>\n",
       "      <td>422</td>\n",
       "    </tr>\n",
       "    <tr>\n",
       "      <th>1</th>\n",
       "      <td>1473231510890DeeplearnS11456.png</td>\n",
       "      <td>73</td>\n",
       "      <td>567</td>\n",
       "      <td>146</td>\n",
       "      <td>351</td>\n",
       "    </tr>\n",
       "    <tr>\n",
       "      <th>2</th>\n",
       "      <td>1476881557883Untitled1.png</td>\n",
       "      <td>13</td>\n",
       "      <td>561</td>\n",
       "      <td>124</td>\n",
       "      <td>362</td>\n",
       "    </tr>\n",
       "    <tr>\n",
       "      <th>3</th>\n",
       "      <td>1474264827890cobalt-beyond-the-sea-maxi-dress3...</td>\n",
       "      <td>0</td>\n",
       "      <td>640</td>\n",
       "      <td>140</td>\n",
       "      <td>330</td>\n",
       "    </tr>\n",
       "    <tr>\n",
       "      <th>4</th>\n",
       "      <td>JPEG_20160711_113321_1000235741992.png</td>\n",
       "      <td>217</td>\n",
       "      <td>442</td>\n",
       "      <td>65</td>\n",
       "      <td>465</td>\n",
       "    </tr>\n",
       "  </tbody>\n",
       "</table>\n",
       "</div>"
      ],
      "text/plain": [
       "                                          image_name   x1   x2   y1   y2\n",
       "0             JPEG_20160517_140621_1000651031832.png   78  446   83  422\n",
       "1                   1473231510890DeeplearnS11456.png   73  567  146  351\n",
       "2                         1476881557883Untitled1.png   13  561  124  362\n",
       "3  1474264827890cobalt-beyond-the-sea-maxi-dress3...    0  640  140  330\n",
       "4             JPEG_20160711_113321_1000235741992.png  217  442   65  465"
      ]
     },
     "execution_count": 4,
     "metadata": {},
     "output_type": "execute_result"
    }
   ],
   "source": [
    "frame.head()"
   ]
  },
  {
   "cell_type": "code",
   "execution_count": 9,
   "metadata": {},
   "outputs": [
    {
     "name": "stdout",
     "output_type": "stream",
     "text": [
      "(22000, 5)\n",
      "(1000, 5)\n",
      "(1000, 5)\n"
     ]
    }
   ],
   "source": [
    "ftrain = pd.DataFrame(index=range(22000), columns=['name', 'delx','dely','width','height'])\n",
    "print(ftrain.shape)\n",
    "fvalid = pd.DataFrame(index=range(1000), columns=['name', 'delx','dely','width','height'])\n",
    "print(fvalid.shape)\n",
    "ftest = pd.DataFrame(index=range(1000), columns=['name', 'delx','dely','width','height'])\n",
    "print(ftest.shape)"
   ]
  },
  {
   "cell_type": "code",
   "execution_count": 10,
   "metadata": {},
   "outputs": [
    {
     "name": "stdout",
     "output_type": "stream",
     "text": [
      "22000\n",
      "1000\n",
      "1000\n"
     ]
    }
   ],
   "source": [
    "ti = 0\n",
    "vi = 0\n",
    "tei = 0\n",
    "for i in range(24000):\n",
    "    a = float(frame['x1'][i])\n",
    "    b = float(frame['x2'][i])\n",
    "    c = float(frame['y1'][i])\n",
    "    d = float(frame['y2'][i])\n",
    "    e = frame['image_name'][i]\n",
    "    if os.path.isfile('images/'+e)== False:\n",
    "        continue\n",
    "    if i%24==10:\n",
    "        fvalid.at[vi ,'name'] = e\n",
    "        fvalid.at[vi ,'delx'] = 319 - ((a+b)/2)\n",
    "        fvalid.at[vi ,'dely'] = 239 - ((c+d)/2)\n",
    "        fvalid.at[vi ,'width'] = b - a\n",
    "        fvalid.at[vi ,'height'] = d - c\n",
    "        vi +=1\n",
    "    elif i%24==22:\n",
    "        ftest.at[vi ,'name'] = e\n",
    "        ftest.at[vi ,'delx'] = 319 - ((a+b)/2)\n",
    "        ftest.at[vi ,'dely'] = 239 - ((c+d)/2)\n",
    "        ftest.at[vi ,'width'] = b - a\n",
    "        ftest.at[vi ,'height'] = d - c\n",
    "        tei +=1\n",
    "    else:\n",
    "        ftrain.at[ti ,'name'] = e\n",
    "        ftrain.at[ti ,'delx'] = 319 - ((a+b)/2)\n",
    "        ftrain.at[ti ,'dely'] = 239 - ((c+d)/2)\n",
    "        ftrain.at[ti ,'width'] = b - a\n",
    "        ftrain.at[ti ,'height'] = d - c\n",
    "        ti +=1\n",
    "print(ti)\n",
    "print(vi)\n",
    "print(tei)"
   ]
  },
  {
   "cell_type": "code",
   "execution_count": 11,
   "metadata": {},
   "outputs": [],
   "source": [
    "fvalid.to_csv('valid.csv',index=False,header=None)\n",
    "ftrain.to_csv('train.csv',index=False,header=None)\n",
    "ftest.to_csv('test.csv',index=False,header=None)"
   ]
  },
  {
   "cell_type": "code",
   "execution_count": null,
   "metadata": {},
   "outputs": [],
   "source": []
  }
 ],
 "metadata": {
  "kernelspec": {
   "display_name": "Python 3",
   "language": "python",
   "name": "python3"
  },
  "language_info": {
   "codemirror_mode": {
    "name": "ipython",
    "version": 3
   },
   "file_extension": ".py",
   "mimetype": "text/x-python",
   "name": "python",
   "nbconvert_exporter": "python",
   "pygments_lexer": "ipython3",
   "version": "3.7.4"
  }
 },
 "nbformat": 4,
 "nbformat_minor": 4
}
